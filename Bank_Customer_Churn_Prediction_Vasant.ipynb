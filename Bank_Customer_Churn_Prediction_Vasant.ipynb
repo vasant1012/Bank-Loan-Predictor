{
 "cells": [
  {
   "cell_type": "markdown",
   "metadata": {
    "id": "0NHKhWHt1v2y"
   },
   "source": [
    "# **Predicting Churn for Bank Customers**"
   ]
  },
  {
   "cell_type": "markdown",
   "metadata": {
    "id": "GZVRi5oCf-0i"
   },
   "source": [
    "# Import libraries"
   ]
  },
  {
   "cell_type": "code",
   "execution_count": 1,
   "metadata": {
    "ExecuteTime": {
     "end_time": "2022-10-18T07:15:15.067731Z",
     "start_time": "2022-10-18T07:15:04.420825Z"
    },
    "executionInfo": {
     "elapsed": 1004,
     "status": "ok",
     "timestamp": 1626366133009,
     "user": {
      "displayName": "Vasant Rajadhyax",
      "photoUrl": "https://lh3.googleusercontent.com/a-/AOh14GiWXNWQGCYoQs2VNdvht0XOjLFJLri6YIxQ6Wu7=s64",
      "userId": "04443070192210893711"
     },
     "user_tz": -330
    },
    "id": "I1crZrJL1xMk"
   },
   "outputs": [],
   "source": [
    "import os\n",
    "import numpy as np\n",
    "import pandas as pd\n",
    "import matplotlib.pyplot as plt\n",
    "import seaborn as sns\n",
    "import warnings\n",
    "warnings.filterwarnings('ignore')\n",
    "import time\n",
    "\n",
    "#Libraries for model building\n",
    "import sklearn\n",
    "from sklearn.model_selection import train_test_split\n",
    "from sklearn.preprocessing import OneHotEncoder, StandardScaler\n",
    "from sklearn.compose import make_column_transformer\n",
    "from sklearn.pipeline import make_pipeline\n",
    "from sklearn.naive_bayes import GaussianNB\n",
    "from sklearn.neighbors import KNeighborsClassifier\n",
    "from sklearn.linear_model import LogisticRegression\n",
    "from sklearn.metrics import confusion_matrix\n",
    "from sklearn.metrics import classification_report\n",
    "from sklearn.model_selection import cross_val_score\n",
    "from sklearn.tree import DecisionTreeClassifier\n",
    "from sklearn.ensemble import RandomForestClassifier\n",
    "from sklearn.model_selection import KFold\n",
    "from imblearn.over_sampling import SMOTENC"
   ]
  },
  {
   "cell_type": "markdown",
   "metadata": {
    "id": "TU1Ow3uF2wgV"
   },
   "source": [
    "# Reading & Understanding the data"
   ]
  },
  {
   "cell_type": "code",
   "execution_count": 2,
   "metadata": {
    "ExecuteTime": {
     "end_time": "2022-10-18T07:15:15.175706Z",
     "start_time": "2022-10-18T07:15:15.075564Z"
    },
    "executionInfo": {
     "elapsed": 107,
     "status": "ok",
     "timestamp": 1626366134500,
     "user": {
      "displayName": "Vasant Rajadhyax",
      "photoUrl": "https://lh3.googleusercontent.com/a-/AOh14GiWXNWQGCYoQs2VNdvht0XOjLFJLri6YIxQ6Wu7=s64",
      "userId": "04443070192210893711"
     },
     "user_tz": -330
    },
    "id": "CF_OLYs12uMu"
   },
   "outputs": [],
   "source": [
    "df = pd.read_csv('Churn_Modelling.csv')"
   ]
  },
  {
   "cell_type": "code",
   "execution_count": 3,
   "metadata": {
    "ExecuteTime": {
     "end_time": "2022-10-18T07:15:15.207392Z",
     "start_time": "2022-10-18T07:15:15.183920Z"
    },
    "executionInfo": {
     "elapsed": 107,
     "status": "ok",
     "timestamp": 1626366134503,
     "user": {
      "displayName": "Vasant Rajadhyax",
      "photoUrl": "https://lh3.googleusercontent.com/a-/AOh14GiWXNWQGCYoQs2VNdvht0XOjLFJLri6YIxQ6Wu7=s64",
      "userId": "04443070192210893711"
     },
     "user_tz": -330
    },
    "id": "f7YER7NieDh7"
   },
   "outputs": [],
   "source": [
    "# Dropping unnecessary columns\n",
    "df.drop(columns=['RowNumber', 'CustomerId', 'Surname'], inplace=True)"
   ]
  },
  {
   "cell_type": "code",
   "execution_count": 4,
   "metadata": {
    "ExecuteTime": {
     "end_time": "2022-10-18T07:15:15.285348Z",
     "start_time": "2022-10-18T07:15:15.218470Z"
    },
    "colab": {
     "base_uri": "https://localhost:8080/",
     "height": 359
    },
    "executionInfo": {
     "elapsed": 114,
     "status": "ok",
     "timestamp": 1626366134512,
     "user": {
      "displayName": "Vasant Rajadhyax",
      "photoUrl": "https://lh3.googleusercontent.com/a-/AOh14GiWXNWQGCYoQs2VNdvht0XOjLFJLri6YIxQ6Wu7=s64",
      "userId": "04443070192210893711"
     },
     "user_tz": -330
    },
    "id": "BIqdmb38eDh8",
    "outputId": "92ef7f36-16d6-47b5-daff-037dff2694a8"
   },
   "outputs": [
    {
     "data": {
      "text/html": [
       "<div>\n",
       "<style scoped>\n",
       "    .dataframe tbody tr th:only-of-type {\n",
       "        vertical-align: middle;\n",
       "    }\n",
       "\n",
       "    .dataframe tbody tr th {\n",
       "        vertical-align: top;\n",
       "    }\n",
       "\n",
       "    .dataframe thead th {\n",
       "        text-align: right;\n",
       "    }\n",
       "</style>\n",
       "<table border=\"1\" class=\"dataframe\">\n",
       "  <thead>\n",
       "    <tr style=\"text-align: right;\">\n",
       "      <th></th>\n",
       "      <th>CreditScore</th>\n",
       "      <th>Geography</th>\n",
       "      <th>Gender</th>\n",
       "      <th>Age</th>\n",
       "      <th>Tenure</th>\n",
       "      <th>Balance</th>\n",
       "      <th>NumOfProducts</th>\n",
       "      <th>HasCrCard</th>\n",
       "      <th>IsActiveMember</th>\n",
       "      <th>EstimatedSalary</th>\n",
       "      <th>Exited</th>\n",
       "    </tr>\n",
       "  </thead>\n",
       "  <tbody>\n",
       "    <tr>\n",
       "      <th>916</th>\n",
       "      <td>475</td>\n",
       "      <td>France</td>\n",
       "      <td>Male</td>\n",
       "      <td>39</td>\n",
       "      <td>6</td>\n",
       "      <td>0.00</td>\n",
       "      <td>1</td>\n",
       "      <td>1</td>\n",
       "      <td>1</td>\n",
       "      <td>56999.90</td>\n",
       "      <td>1</td>\n",
       "    </tr>\n",
       "    <tr>\n",
       "      <th>8938</th>\n",
       "      <td>693</td>\n",
       "      <td>Spain</td>\n",
       "      <td>Male</td>\n",
       "      <td>47</td>\n",
       "      <td>8</td>\n",
       "      <td>107604.66</td>\n",
       "      <td>1</td>\n",
       "      <td>1</td>\n",
       "      <td>1</td>\n",
       "      <td>80149.27</td>\n",
       "      <td>0</td>\n",
       "    </tr>\n",
       "    <tr>\n",
       "      <th>4031</th>\n",
       "      <td>688</td>\n",
       "      <td>Spain</td>\n",
       "      <td>Male</td>\n",
       "      <td>37</td>\n",
       "      <td>7</td>\n",
       "      <td>138162.41</td>\n",
       "      <td>2</td>\n",
       "      <td>1</td>\n",
       "      <td>1</td>\n",
       "      <td>113926.31</td>\n",
       "      <td>0</td>\n",
       "    </tr>\n",
       "    <tr>\n",
       "      <th>3169</th>\n",
       "      <td>677</td>\n",
       "      <td>Spain</td>\n",
       "      <td>Male</td>\n",
       "      <td>40</td>\n",
       "      <td>5</td>\n",
       "      <td>0.00</td>\n",
       "      <td>2</td>\n",
       "      <td>1</td>\n",
       "      <td>0</td>\n",
       "      <td>88947.56</td>\n",
       "      <td>0</td>\n",
       "    </tr>\n",
       "    <tr>\n",
       "      <th>6679</th>\n",
       "      <td>470</td>\n",
       "      <td>Spain</td>\n",
       "      <td>Male</td>\n",
       "      <td>30</td>\n",
       "      <td>4</td>\n",
       "      <td>125385.01</td>\n",
       "      <td>1</td>\n",
       "      <td>1</td>\n",
       "      <td>0</td>\n",
       "      <td>68293.93</td>\n",
       "      <td>0</td>\n",
       "    </tr>\n",
       "    <tr>\n",
       "      <th>7889</th>\n",
       "      <td>600</td>\n",
       "      <td>Germany</td>\n",
       "      <td>Male</td>\n",
       "      <td>57</td>\n",
       "      <td>9</td>\n",
       "      <td>138456.03</td>\n",
       "      <td>2</td>\n",
       "      <td>1</td>\n",
       "      <td>1</td>\n",
       "      <td>103548.25</td>\n",
       "      <td>0</td>\n",
       "    </tr>\n",
       "    <tr>\n",
       "      <th>854</th>\n",
       "      <td>675</td>\n",
       "      <td>France</td>\n",
       "      <td>Female</td>\n",
       "      <td>57</td>\n",
       "      <td>8</td>\n",
       "      <td>0.00</td>\n",
       "      <td>2</td>\n",
       "      <td>0</td>\n",
       "      <td>1</td>\n",
       "      <td>95463.29</td>\n",
       "      <td>0</td>\n",
       "    </tr>\n",
       "    <tr>\n",
       "      <th>5138</th>\n",
       "      <td>850</td>\n",
       "      <td>France</td>\n",
       "      <td>Male</td>\n",
       "      <td>34</td>\n",
       "      <td>6</td>\n",
       "      <td>0.00</td>\n",
       "      <td>1</td>\n",
       "      <td>0</td>\n",
       "      <td>1</td>\n",
       "      <td>52796.31</td>\n",
       "      <td>0</td>\n",
       "    </tr>\n",
       "    <tr>\n",
       "      <th>3230</th>\n",
       "      <td>679</td>\n",
       "      <td>France</td>\n",
       "      <td>Female</td>\n",
       "      <td>33</td>\n",
       "      <td>6</td>\n",
       "      <td>0.00</td>\n",
       "      <td>2</td>\n",
       "      <td>1</td>\n",
       "      <td>1</td>\n",
       "      <td>98015.85</td>\n",
       "      <td>0</td>\n",
       "    </tr>\n",
       "    <tr>\n",
       "      <th>4449</th>\n",
       "      <td>666</td>\n",
       "      <td>France</td>\n",
       "      <td>Male</td>\n",
       "      <td>36</td>\n",
       "      <td>3</td>\n",
       "      <td>0.00</td>\n",
       "      <td>2</td>\n",
       "      <td>1</td>\n",
       "      <td>0</td>\n",
       "      <td>35156.54</td>\n",
       "      <td>0</td>\n",
       "    </tr>\n",
       "  </tbody>\n",
       "</table>\n",
       "</div>"
      ],
      "text/plain": [
       "      CreditScore Geography  Gender  Age  Tenure    Balance  NumOfProducts  \\\n",
       "916           475    France    Male   39       6       0.00              1   \n",
       "8938          693     Spain    Male   47       8  107604.66              1   \n",
       "4031          688     Spain    Male   37       7  138162.41              2   \n",
       "3169          677     Spain    Male   40       5       0.00              2   \n",
       "6679          470     Spain    Male   30       4  125385.01              1   \n",
       "7889          600   Germany    Male   57       9  138456.03              2   \n",
       "854           675    France  Female   57       8       0.00              2   \n",
       "5138          850    France    Male   34       6       0.00              1   \n",
       "3230          679    France  Female   33       6       0.00              2   \n",
       "4449          666    France    Male   36       3       0.00              2   \n",
       "\n",
       "      HasCrCard  IsActiveMember  EstimatedSalary  Exited  \n",
       "916           1               1         56999.90       1  \n",
       "8938          1               1         80149.27       0  \n",
       "4031          1               1        113926.31       0  \n",
       "3169          1               0         88947.56       0  \n",
       "6679          1               0         68293.93       0  \n",
       "7889          1               1        103548.25       0  \n",
       "854           0               1         95463.29       0  \n",
       "5138          0               1         52796.31       0  \n",
       "3230          1               1         98015.85       0  \n",
       "4449          1               0         35156.54       0  "
      ]
     },
     "execution_count": 4,
     "metadata": {},
     "output_type": "execute_result"
    }
   ],
   "source": [
    "df.sample(10)"
   ]
  },
  {
   "cell_type": "code",
   "execution_count": 5,
   "metadata": {
    "ExecuteTime": {
     "end_time": "2022-10-18T07:15:15.300505Z",
     "start_time": "2022-10-18T07:15:15.288352Z"
    },
    "colab": {
     "base_uri": "https://localhost:8080/"
    },
    "executionInfo": {
     "elapsed": 111,
     "status": "ok",
     "timestamp": 1626366134516,
     "user": {
      "displayName": "Vasant Rajadhyax",
      "photoUrl": "https://lh3.googleusercontent.com/a-/AOh14GiWXNWQGCYoQs2VNdvht0XOjLFJLri6YIxQ6Wu7=s64",
      "userId": "04443070192210893711"
     },
     "user_tz": -330
    },
    "id": "rTI9yhO92uPW",
    "outputId": "36c23c93-c28d-4bed-c4ea-947e28b197e6"
   },
   "outputs": [
    {
     "data": {
      "text/plain": [
       "(10000, 11)"
      ]
     },
     "execution_count": 5,
     "metadata": {},
     "output_type": "execute_result"
    }
   ],
   "source": [
    "df.shape"
   ]
  },
  {
   "cell_type": "code",
   "execution_count": 6,
   "metadata": {
    "ExecuteTime": {
     "end_time": "2022-10-18T07:15:15.330931Z",
     "start_time": "2022-10-18T07:15:15.304351Z"
    },
    "colab": {
     "base_uri": "https://localhost:8080/"
    },
    "executionInfo": {
     "elapsed": 95,
     "status": "ok",
     "timestamp": 1626366134518,
     "user": {
      "displayName": "Vasant Rajadhyax",
      "photoUrl": "https://lh3.googleusercontent.com/a-/AOh14GiWXNWQGCYoQs2VNdvht0XOjLFJLri6YIxQ6Wu7=s64",
      "userId": "04443070192210893711"
     },
     "user_tz": -330
    },
    "id": "4NGcEh982uSN",
    "outputId": "5cda7de5-d50a-4e82-ef3f-89322ff5b47d"
   },
   "outputs": [
    {
     "name": "stdout",
     "output_type": "stream",
     "text": [
      "<class 'pandas.core.frame.DataFrame'>\n",
      "RangeIndex: 10000 entries, 0 to 9999\n",
      "Data columns (total 11 columns):\n",
      " #   Column           Non-Null Count  Dtype  \n",
      "---  ------           --------------  -----  \n",
      " 0   CreditScore      10000 non-null  int64  \n",
      " 1   Geography        10000 non-null  object \n",
      " 2   Gender           10000 non-null  object \n",
      " 3   Age              10000 non-null  int64  \n",
      " 4   Tenure           10000 non-null  int64  \n",
      " 5   Balance          10000 non-null  float64\n",
      " 6   NumOfProducts    10000 non-null  int64  \n",
      " 7   HasCrCard        10000 non-null  int64  \n",
      " 8   IsActiveMember   10000 non-null  int64  \n",
      " 9   EstimatedSalary  10000 non-null  float64\n",
      " 10  Exited           10000 non-null  int64  \n",
      "dtypes: float64(2), int64(7), object(2)\n",
      "memory usage: 859.5+ KB\n"
     ]
    }
   ],
   "source": [
    "df.info()"
   ]
  },
  {
   "cell_type": "code",
   "execution_count": 7,
   "metadata": {
    "ExecuteTime": {
     "end_time": "2022-10-18T07:15:15.393168Z",
     "start_time": "2022-10-18T07:15:15.333922Z"
    },
    "colab": {
     "base_uri": "https://localhost:8080/",
     "height": 297
    },
    "executionInfo": {
     "elapsed": 83,
     "status": "ok",
     "timestamp": 1626366134521,
     "user": {
      "displayName": "Vasant Rajadhyax",
      "photoUrl": "https://lh3.googleusercontent.com/a-/AOh14GiWXNWQGCYoQs2VNdvht0XOjLFJLri6YIxQ6Wu7=s64",
      "userId": "04443070192210893711"
     },
     "user_tz": -330
    },
    "id": "KlhJYzM-KgkO",
    "outputId": "82c10ef1-f577-44fc-a163-724a1502a89f"
   },
   "outputs": [
    {
     "data": {
      "text/html": [
       "<div>\n",
       "<style scoped>\n",
       "    .dataframe tbody tr th:only-of-type {\n",
       "        vertical-align: middle;\n",
       "    }\n",
       "\n",
       "    .dataframe tbody tr th {\n",
       "        vertical-align: top;\n",
       "    }\n",
       "\n",
       "    .dataframe thead th {\n",
       "        text-align: right;\n",
       "    }\n",
       "</style>\n",
       "<table border=\"1\" class=\"dataframe\">\n",
       "  <thead>\n",
       "    <tr style=\"text-align: right;\">\n",
       "      <th></th>\n",
       "      <th>CreditScore</th>\n",
       "      <th>Age</th>\n",
       "      <th>Tenure</th>\n",
       "      <th>Balance</th>\n",
       "      <th>NumOfProducts</th>\n",
       "      <th>HasCrCard</th>\n",
       "      <th>IsActiveMember</th>\n",
       "      <th>EstimatedSalary</th>\n",
       "      <th>Exited</th>\n",
       "    </tr>\n",
       "  </thead>\n",
       "  <tbody>\n",
       "    <tr>\n",
       "      <th>count</th>\n",
       "      <td>10000.000000</td>\n",
       "      <td>10000.000000</td>\n",
       "      <td>10000.000000</td>\n",
       "      <td>10000.000000</td>\n",
       "      <td>10000.000000</td>\n",
       "      <td>10000.00000</td>\n",
       "      <td>10000.000000</td>\n",
       "      <td>10000.000000</td>\n",
       "      <td>10000.000000</td>\n",
       "    </tr>\n",
       "    <tr>\n",
       "      <th>mean</th>\n",
       "      <td>650.528800</td>\n",
       "      <td>38.921800</td>\n",
       "      <td>5.012800</td>\n",
       "      <td>76485.889288</td>\n",
       "      <td>1.530200</td>\n",
       "      <td>0.70550</td>\n",
       "      <td>0.515100</td>\n",
       "      <td>100090.239881</td>\n",
       "      <td>0.203700</td>\n",
       "    </tr>\n",
       "    <tr>\n",
       "      <th>std</th>\n",
       "      <td>96.653299</td>\n",
       "      <td>10.487806</td>\n",
       "      <td>2.892174</td>\n",
       "      <td>62397.405202</td>\n",
       "      <td>0.581654</td>\n",
       "      <td>0.45584</td>\n",
       "      <td>0.499797</td>\n",
       "      <td>57510.492818</td>\n",
       "      <td>0.402769</td>\n",
       "    </tr>\n",
       "    <tr>\n",
       "      <th>min</th>\n",
       "      <td>350.000000</td>\n",
       "      <td>18.000000</td>\n",
       "      <td>0.000000</td>\n",
       "      <td>0.000000</td>\n",
       "      <td>1.000000</td>\n",
       "      <td>0.00000</td>\n",
       "      <td>0.000000</td>\n",
       "      <td>11.580000</td>\n",
       "      <td>0.000000</td>\n",
       "    </tr>\n",
       "    <tr>\n",
       "      <th>25%</th>\n",
       "      <td>584.000000</td>\n",
       "      <td>32.000000</td>\n",
       "      <td>3.000000</td>\n",
       "      <td>0.000000</td>\n",
       "      <td>1.000000</td>\n",
       "      <td>0.00000</td>\n",
       "      <td>0.000000</td>\n",
       "      <td>51002.110000</td>\n",
       "      <td>0.000000</td>\n",
       "    </tr>\n",
       "    <tr>\n",
       "      <th>50%</th>\n",
       "      <td>652.000000</td>\n",
       "      <td>37.000000</td>\n",
       "      <td>5.000000</td>\n",
       "      <td>97198.540000</td>\n",
       "      <td>1.000000</td>\n",
       "      <td>1.00000</td>\n",
       "      <td>1.000000</td>\n",
       "      <td>100193.915000</td>\n",
       "      <td>0.000000</td>\n",
       "    </tr>\n",
       "    <tr>\n",
       "      <th>75%</th>\n",
       "      <td>718.000000</td>\n",
       "      <td>44.000000</td>\n",
       "      <td>7.000000</td>\n",
       "      <td>127644.240000</td>\n",
       "      <td>2.000000</td>\n",
       "      <td>1.00000</td>\n",
       "      <td>1.000000</td>\n",
       "      <td>149388.247500</td>\n",
       "      <td>0.000000</td>\n",
       "    </tr>\n",
       "    <tr>\n",
       "      <th>max</th>\n",
       "      <td>850.000000</td>\n",
       "      <td>92.000000</td>\n",
       "      <td>10.000000</td>\n",
       "      <td>250898.090000</td>\n",
       "      <td>4.000000</td>\n",
       "      <td>1.00000</td>\n",
       "      <td>1.000000</td>\n",
       "      <td>199992.480000</td>\n",
       "      <td>1.000000</td>\n",
       "    </tr>\n",
       "  </tbody>\n",
       "</table>\n",
       "</div>"
      ],
      "text/plain": [
       "        CreditScore           Age        Tenure        Balance  NumOfProducts  \\\n",
       "count  10000.000000  10000.000000  10000.000000   10000.000000   10000.000000   \n",
       "mean     650.528800     38.921800      5.012800   76485.889288       1.530200   \n",
       "std       96.653299     10.487806      2.892174   62397.405202       0.581654   \n",
       "min      350.000000     18.000000      0.000000       0.000000       1.000000   \n",
       "25%      584.000000     32.000000      3.000000       0.000000       1.000000   \n",
       "50%      652.000000     37.000000      5.000000   97198.540000       1.000000   \n",
       "75%      718.000000     44.000000      7.000000  127644.240000       2.000000   \n",
       "max      850.000000     92.000000     10.000000  250898.090000       4.000000   \n",
       "\n",
       "         HasCrCard  IsActiveMember  EstimatedSalary        Exited  \n",
       "count  10000.00000    10000.000000     10000.000000  10000.000000  \n",
       "mean       0.70550        0.515100    100090.239881      0.203700  \n",
       "std        0.45584        0.499797     57510.492818      0.402769  \n",
       "min        0.00000        0.000000        11.580000      0.000000  \n",
       "25%        0.00000        0.000000     51002.110000      0.000000  \n",
       "50%        1.00000        1.000000    100193.915000      0.000000  \n",
       "75%        1.00000        1.000000    149388.247500      0.000000  \n",
       "max        1.00000        1.000000    199992.480000      1.000000  "
      ]
     },
     "execution_count": 7,
     "metadata": {},
     "output_type": "execute_result"
    }
   ],
   "source": [
    "df.describe()"
   ]
  },
  {
   "cell_type": "markdown",
   "metadata": {
    "id": "9BDTp_SHEUni"
   },
   "source": [
    "# Exploratory Data Analysis"
   ]
  },
  {
   "cell_type": "code",
   "execution_count": 8,
   "metadata": {
    "ExecuteTime": {
     "end_time": "2022-10-18T07:15:15.916357Z",
     "start_time": "2022-10-18T07:15:15.398613Z"
    },
    "colab": {
     "base_uri": "https://localhost:8080/",
     "height": 388
    },
    "executionInfo": {
     "elapsed": 80,
     "status": "ok",
     "timestamp": 1626366134523,
     "user": {
      "displayName": "Vasant Rajadhyax",
      "photoUrl": "https://lh3.googleusercontent.com/a-/AOh14GiWXNWQGCYoQs2VNdvht0XOjLFJLri6YIxQ6Wu7=s64",
      "userId": "04443070192210893711"
     },
     "user_tz": -330
    },
    "id": "lWEHucIweDiC",
    "outputId": "5080ea93-4f6c-4356-e973-257d5f1f37c1"
   },
   "outputs": [
    {
     "data": {
      "image/png": "[encoded data removed]",
      "text/plain": [
       "<Figure size 576x432 with 1 Axes>"
      ]
     },
     "metadata": {
      "needs_background": "light"
     },
     "output_type": "display_data"
    }
   ],
   "source": [
    "plt.figure(figsize=(8,6))\n",
    "sns.countplot(x= df.Exited, hue=df.Geography, palette = \"Spectral\")\n",
    "plt.show()"
   ]
  },
  {
   "cell_type": "markdown",
   "metadata": {
    "id": "-gU4Mxd1c2d6"
   },
   "source": [
    "**Inferences** \n",
    "1.   As we can see from the plot that the data is higly skewed, the count for non-Exited customers is higher than the Exited customers.\n",
    "2.   The non-Exited customer count for France is high around 4000, whereas for Spain is around 2000 and Germany 1500.\n",
    "3.   The Exited customer count for France and Germany is same around 700, whereas for spain is around 400.\n",
    "\n",
    "\n"
   ]
  },
  {
   "cell_type": "code",
   "execution_count": 9,
   "metadata": {
    "ExecuteTime": {
     "end_time": "2022-10-18T07:15:16.165649Z",
     "start_time": "2022-10-18T07:15:15.919314Z"
    },
    "colab": {
     "base_uri": "https://localhost:8080/",
     "height": 334
    },
    "executionInfo": {
     "elapsed": 887,
     "status": "ok",
     "timestamp": 1626366135337,
     "user": {
      "displayName": "Vasant Rajadhyax",
      "photoUrl": "https://lh3.googleusercontent.com/a-/AOh14GiWXNWQGCYoQs2VNdvht0XOjLFJLri6YIxQ6Wu7=s64",
      "userId": "04443070192210893711"
     },
     "user_tz": -330
    },
    "id": "z5PeQVCSeDiD",
    "outputId": "d8e4a3ad-9dd1-4100-a84c-5f0171b2dde4"
   },
   "outputs": [
    {
     "data": {
      "image/png": "[encoded data removed]",
      "text/plain": [
       "<Figure size 576x360 with 1 Axes>"
      ]
     },
     "metadata": {
      "needs_background": "light"
     },
     "output_type": "display_data"
    }
   ],
   "source": [
    "plt.figure(figsize=(8,5))\n",
    "sns.countplot(x= df.Gender, hue=df.HasCrCard)\n",
    "plt.show()"
   ]
  },
  {
   "cell_type": "markdown",
   "metadata": {
    "id": "yiI5QBgWja-3"
   },
   "source": [
    "**Inferences** \n",
    "1.   70% of the customers are having a credit card.\n",
    "2.   37% of the customers using credit card are Male and remaining 33% are Female. "
   ]
  },
  {
   "cell_type": "code",
   "execution_count": 10,
   "metadata": {
    "ExecuteTime": {
     "end_time": "2022-10-18T07:15:16.336658Z",
     "start_time": "2022-10-18T07:15:16.169585Z"
    },
    "colab": {
     "base_uri": "https://localhost:8080/",
     "height": 334
    },
    "executionInfo": {
     "elapsed": 43,
     "status": "ok",
     "timestamp": 1626366135343,
     "user": {
      "displayName": "Vasant Rajadhyax",
      "photoUrl": "https://lh3.googleusercontent.com/a-/AOh14GiWXNWQGCYoQs2VNdvht0XOjLFJLri6YIxQ6Wu7=s64",
      "userId": "04443070192210893711"
     },
     "user_tz": -330
    },
    "id": "Pv-GajeUW49A",
    "outputId": "e74ec5b4-1337-4339-df0d-41171843b8f4"
   },
   "outputs": [
    {
     "data": {
      "image/png": "[encoded data removed]",
      "text/plain": [
       "<Figure size 576x360 with 1 Axes>"
      ]
     },
     "metadata": {
      "needs_background": "light"
     },
     "output_type": "display_data"
    }
   ],
   "source": [
    "plt.figure(figsize=(8,5))\n",
    "sns.countplot(x= df.HasCrCard, hue=df.Exited, palette = \"bright\")\n",
    "plt.show()"
   ]
  },
  {
   "cell_type": "markdown",
   "metadata": {
    "id": "4i1R0rZsnCCt"
   },
   "source": [
    "**Inferences** \n",
    "1.   The count for non-Exited customers having credit card is higher around 6000, whereas for the Exited customers having credit card is lesser around 1200.\n",
    "2.   The count for non-Exited customers not having credit card is higher around 2200, whereas for the Exited customers not having credit card is around 500."
   ]
  },
  {
   "cell_type": "code",
   "execution_count": 11,
   "metadata": {
    "ExecuteTime": {
     "end_time": "2022-10-18T07:15:16.551430Z",
     "start_time": "2022-10-18T07:15:16.338498Z"
    },
    "colab": {
     "base_uri": "https://localhost:8080/",
     "height": 334
    },
    "executionInfo": {
     "elapsed": 2073,
     "status": "ok",
     "timestamp": 1626366137380,
     "user": {
      "displayName": "Vasant Rajadhyax",
      "photoUrl": "https://lh3.googleusercontent.com/a-/AOh14GiWXNWQGCYoQs2VNdvht0XOjLFJLri6YIxQ6Wu7=s64",
      "userId": "04443070192210893711"
     },
     "user_tz": -330
    },
    "id": "l1caG7WxW-91",
    "outputId": "4ed723c5-8f33-41da-e1d1-86163530f416"
   },
   "outputs": [
    {
     "data": {
      "image/png": "[encoded data removed]",
      "text/plain": [
       "<Figure size 576x360 with 1 Axes>"
      ]
     },
     "metadata": {
      "needs_background": "light"
     },
     "output_type": "display_data"
    }
   ],
   "source": [
    "plt.figure(figsize=(8,5))\n",
    "sns.countplot(x= df.IsActiveMember, hue=df.Exited, palette = \"dark\")\n",
    "plt.show()"
   ]
  },
  {
   "cell_type": "markdown",
   "metadata": {
    "id": "m_BrxqtXwQqC"
   },
   "source": [
    "**Inferences** \n",
    "1.   The count for non-Exited/Active customers is higher around 5000, whereas for the Exited/Active customers is lesser around 700.\n",
    "2.   The count for non-Exited/non-Active customers is higher around 3500, whereas for the Exited/non-Active customers is around 1200."
   ]
  },
  {
   "cell_type": "code",
   "execution_count": 12,
   "metadata": {
    "ExecuteTime": {
     "end_time": "2022-10-18T07:15:16.923529Z",
     "start_time": "2022-10-18T07:15:16.554466Z"
    },
    "colab": {
     "base_uri": "https://localhost:8080/",
     "height": 352
    },
    "executionInfo": {
     "elapsed": 37,
     "status": "ok",
     "timestamp": 1626366137385,
     "user": {
      "displayName": "Vasant Rajadhyax",
      "photoUrl": "https://lh3.googleusercontent.com/a-/AOh14GiWXNWQGCYoQs2VNdvht0XOjLFJLri6YIxQ6Wu7=s64",
      "userId": "04443070192210893711"
     },
     "user_tz": -330
    },
    "id": "oxQE48liXLBr",
    "outputId": "ae390802-1f25-4aa5-ce5e-2bdb9189dba2"
   },
   "outputs": [
    {
     "data": {
      "image/png": "[encoded data removed]",
      "text/plain": [
       "<Figure size 576x360 with 1 Axes>"
      ]
     },
     "metadata": {
      "needs_background": "light"
     },
     "output_type": "display_data"
    }
   ],
   "source": [
    "plt.figure(figsize=(8,5))\n",
    "df.Tenure.value_counts().plot(kind='bar')\n",
    "plt.title('Customer_count Vs Tenure')\n",
    "plt.xlabel('Tenure')\n",
    "plt.ylabel('Coustomer_count')\n",
    "plt.show()"
   ]
  },
  {
   "cell_type": "code",
   "execution_count": 13,
   "metadata": {
    "ExecuteTime": {
     "end_time": "2022-10-18T07:15:17.388566Z",
     "start_time": "2022-10-18T07:15:16.924939Z"
    },
    "colab": {
     "base_uri": "https://localhost:8080/",
     "height": 714
    },
    "executionInfo": {
     "elapsed": 969,
     "status": "ok",
     "timestamp": 1626366138322,
     "user": {
      "displayName": "Vasant Rajadhyax",
      "photoUrl": "https://lh3.googleusercontent.com/a-/AOh14GiWXNWQGCYoQs2VNdvht0XOjLFJLri6YIxQ6Wu7=s64",
      "userId": "04443070192210893711"
     },
     "user_tz": -330
    },
    "id": "bBjLq3TW-Bgu",
    "outputId": "b50c39f9-ca6e-4a63-838a-f1c7f8a61acb"
   },
   "outputs": [
    {
     "data": {
      "image/png": "[encoded data removed]",
      "text/plain": [
       "<Figure size 1080x864 with 4 Axes>"
      ]
     },
     "metadata": {
      "needs_background": "light"
     },
     "output_type": "display_data"
    }
   ],
   "source": [
    "plt.figure(figsize=(15,12))\n",
    "plt.subplot(2,2,1)\n",
    "sns.boxplot(x= df.EstimatedSalary, palette='tab10')\n",
    "plt.subplot(2,2,2)\n",
    "sns.boxplot(x= df.CreditScore, palette='bright')\n",
    "plt.subplot(2,2,3)\n",
    "sns.boxplot(x= df.Balance, palette='dark')\n",
    "plt.subplot(2,2,4)\n",
    "sns.boxplot(x= df.Age, palette='pastel')\n",
    "plt.show()"
   ]
  },
  {
   "cell_type": "code",
   "execution_count": 14,
   "metadata": {
    "ExecuteTime": {
     "end_time": "2022-10-18T07:15:18.039474Z",
     "start_time": "2022-10-18T07:15:17.390601Z"
    },
    "colab": {
     "base_uri": "https://localhost:8080/",
     "height": 714
    },
    "executionInfo": {
     "elapsed": 1048,
     "status": "ok",
     "timestamp": 1626366139357,
     "user": {
      "displayName": "Vasant Rajadhyax",
      "photoUrl": "https://lh3.googleusercontent.com/a-/AOh14GiWXNWQGCYoQs2VNdvht0XOjLFJLri6YIxQ6Wu7=s64",
      "userId": "04443070192210893711"
     },
     "user_tz": -330
    },
    "id": "vNAF6P8-2_4I",
    "outputId": "4f774fd8-86fb-4e57-b6c8-5cd6ae47d175"
   },
   "outputs": [
    {
     "data": {
      "image/png": "[encoded data removed]",
      "text/plain": [
       "<Figure size 1080x864 with 4 Axes>"
      ]
     },
     "metadata": {
      "needs_background": "light"
     },
     "output_type": "display_data"
    }
   ],
   "source": [
    "plt.figure(figsize=(15,12))\n",
    "plt.subplot(2,2,1)\n",
    "sns.boxplot(x=df.Gender,y= df.Balance, palette='bright')\n",
    "plt.subplot(2,2,2)\n",
    "sns.boxplot(x=df.Gender,y= df.EstimatedSalary, palette='dark')\n",
    "plt.subplot(2,2,3)\n",
    "sns.boxplot(x=df.Gender,y= df.CreditScore, palette='tab10')\n",
    "plt.subplot(2,2,4)\n",
    "sns.boxplot(x=df.Gender,y= df.Age)\n",
    "plt.show()"
   ]
  },
  {
   "cell_type": "code",
   "execution_count": 15,
   "metadata": {
    "ExecuteTime": {
     "end_time": "2022-10-18T07:15:18.675167Z",
     "start_time": "2022-10-18T07:15:18.044594Z"
    },
    "colab": {
     "base_uri": "https://localhost:8080/",
     "height": 714
    },
    "executionInfo": {
     "elapsed": 2044,
     "status": "ok",
     "timestamp": 1626366141373,
     "user": {
      "displayName": "Vasant Rajadhyax",
      "photoUrl": "https://lh3.googleusercontent.com/a-/AOh14GiWXNWQGCYoQs2VNdvht0XOjLFJLri6YIxQ6Wu7=s64",
      "userId": "04443070192210893711"
     },
     "user_tz": -330
    },
    "id": "-Hi0bjjR9vpX",
    "outputId": "a196628c-e75c-4f8d-8870-6db5ca5670bd"
   },
   "outputs": [
    {
     "data": {
      "image/png": "[encoded data removed]",
      "text/plain": [
       "<Figure size 1080x864 with 4 Axes>"
      ]
     },
     "metadata": {
      "needs_background": "light"
     },
     "output_type": "display_data"
    }
   ],
   "source": [
    "plt.figure(figsize=(15,12))\n",
    "plt.subplot(2,2,1)\n",
    "sns.boxplot(x=df.Exited,y= df.Balance)\n",
    "plt.subplot(2,2,2)\n",
    "sns.boxplot(x=df.Exited,y= df.EstimatedSalary)\n",
    "plt.subplot(2,2,3)\n",
    "sns.boxplot(x=df.Exited,y= df.CreditScore)\n",
    "plt.subplot(2,2,4)\n",
    "sns.boxplot(x=df.Exited,y= df.Age)\n",
    "plt.show()"
   ]
  },
  {
   "cell_type": "code",
   "execution_count": 16,
   "metadata": {
    "ExecuteTime": {
     "end_time": "2022-10-18T07:15:18.924324Z",
     "start_time": "2022-10-18T07:15:18.678916Z"
    },
    "colab": {
     "base_uri": "https://localhost:8080/",
     "height": 388
    },
    "executionInfo": {
     "elapsed": 49,
     "status": "ok",
     "timestamp": 1626366141387,
     "user": {
      "displayName": "Vasant Rajadhyax",
      "photoUrl": "https://lh3.googleusercontent.com/a-/AOh14GiWXNWQGCYoQs2VNdvht0XOjLFJLri6YIxQ6Wu7=s64",
      "userId": "04443070192210893711"
     },
     "user_tz": -330
    },
    "id": "lsjlhRuOfEiH",
    "outputId": "d353db71-4f16-4980-bd4e-80c248f36a1f"
   },
   "outputs": [
    {
     "data": {
      "image/png": "[encoded data removed]",
      "text/plain": [
       "<Figure size 576x432 with 1 Axes>"
      ]
     },
     "metadata": {
      "needs_background": "light"
     },
     "output_type": "display_data"
    }
   ],
   "source": [
    "plt.figure(figsize=(8,6))\n",
    "sns.distplot(df.Age,bins = 6)\n",
    "plt.show()"
   ]
  },
  {
   "cell_type": "markdown",
   "metadata": {
    "id": "sGPSvWCBtMMk"
   },
   "source": [
    "**Inferences** \n",
    "1.   20% of the Customers belong to age between 20-30.\n",
    "2.   50% of the Customers belong to age between 30-45.\n",
    "3.   20% of the Customers belong to age between 45-55.\n",
    "4.   Remaining 10% of the coustomers belong to age above 60."
   ]
  },
  {
   "cell_type": "code",
   "execution_count": 17,
   "metadata": {
    "ExecuteTime": {
     "end_time": "2022-10-18T07:15:20.023790Z",
     "start_time": "2022-10-18T07:15:18.926272Z"
    },
    "colab": {
     "base_uri": "https://localhost:8080/",
     "height": 888
    },
    "executionInfo": {
     "elapsed": 2108,
     "status": "ok",
     "timestamp": 1626366143464,
     "user": {
      "displayName": "Vasant Rajadhyax",
      "photoUrl": "https://lh3.googleusercontent.com/a-/AOh14GiWXNWQGCYoQs2VNdvht0XOjLFJLri6YIxQ6Wu7=s64",
      "userId": "04443070192210893711"
     },
     "user_tz": -330
    },
    "id": "7v8V04w6lMdw",
    "outputId": "ea816cc7-515c-4a88-c644-0cb82114c7c2"
   },
   "outputs": [
    {
     "data": {
      "image/png": "[encoded data removed]",
      "text/plain": [
       "<Figure size 1080x1080 with 4 Axes>"
      ]
     },
     "metadata": {
      "needs_background": "light"
     },
     "output_type": "display_data"
    }
   ],
   "source": [
    "plt.figure(figsize=(15,15))\n",
    "plt.subplot(2,2,1)\n",
    "sns.distplot(df.Balance)\n",
    "plt.subplot(2,2,2)\n",
    "sns.distplot(df.EstimatedSalary)\n",
    "plt.subplot(2,2,3)\n",
    "sns.distplot(df.CreditScore)\n",
    "plt.subplot(2,2,4)\n",
    "sns.distplot(df.Age)\n",
    "plt.show()"
   ]
  },
  {
   "cell_type": "markdown",
   "metadata": {
    "id": "Iw5CwFeE7HtO"
   },
   "source": [
    "## Data Preprocessing before trainng the model\n",
    "\n"
   ]
  },
  {
   "cell_type": "code",
   "execution_count": 18,
   "metadata": {
    "ExecuteTime": {
     "end_time": "2022-10-18T07:15:20.239550Z",
     "start_time": "2022-10-18T07:15:20.028469Z"
    },
    "colab": {
     "base_uri": "https://localhost:8080/",
     "height": 388
    },
    "executionInfo": {
     "elapsed": 74,
     "status": "ok",
     "timestamp": 1626366143469,
     "user": {
      "displayName": "Vasant Rajadhyax",
      "photoUrl": "https://lh3.googleusercontent.com/a-/AOh14GiWXNWQGCYoQs2VNdvht0XOjLFJLri6YIxQ6Wu7=s64",
      "userId": "04443070192210893711"
     },
     "user_tz": -330
    },
    "id": "KQKuglITNt3B",
    "outputId": "424d6845-8239-4fbc-b1b9-447d48b1265e"
   },
   "outputs": [
    {
     "data": {
      "image/png": "[encoded data removed]",
      "text/plain": [
       "<Figure size 576x432 with 1 Axes>"
      ]
     },
     "metadata": {
      "needs_background": "light"
     },
     "output_type": "display_data"
    }
   ],
   "source": [
    "plt.figure(figsize=(8,6))\n",
    "sns.countplot(df.Exited)\n",
    "plt.show()"
   ]
  },
  {
   "cell_type": "markdown",
   "metadata": {
    "id": "Erh5PuYyxrLR"
   },
   "source": [
    "Above figure states that it's an imbalanced dataset. So we shouldn't consider accuracy as our metrics to measure the model, as accuracy is cursed in imbalanced datasets. Hence, to have an balance sampling we are moving ahead to call **SMOTENC** i.e. **Synthetic Minority Over-sampling Technique for Nominal and Continuous**."
   ]
  },
  {
   "cell_type": "code",
   "execution_count": 19,
   "metadata": {
    "ExecuteTime": {
     "end_time": "2022-10-18T07:15:20.255437Z",
     "start_time": "2022-10-18T07:15:20.242554Z"
    },
    "executionInfo": {
     "elapsed": 66,
     "status": "ok",
     "timestamp": 1626366143471,
     "user": {
      "displayName": "Vasant Rajadhyax",
      "photoUrl": "https://lh3.googleusercontent.com/a-/AOh14GiWXNWQGCYoQs2VNdvht0XOjLFJLri6YIxQ6Wu7=s64",
      "userId": "04443070192210893711"
     },
     "user_tz": -330
    },
    "id": "wF0ndJji6E0u"
   },
   "outputs": [],
   "source": [
    "X = df.drop(['Exited'],1)\n",
    "y = df['Exited']"
   ]
  },
  {
   "cell_type": "code",
   "execution_count": 20,
   "metadata": {
    "ExecuteTime": {
     "end_time": "2022-10-18T07:15:20.301485Z",
     "start_time": "2022-10-18T07:15:20.263008Z"
    },
    "colab": {
     "base_uri": "https://localhost:8080/"
    },
    "executionInfo": {
     "elapsed": 588,
     "status": "ok",
     "timestamp": 1626366175975,
     "user": {
      "displayName": "Vasant Rajadhyax",
      "photoUrl": "https://lh3.googleusercontent.com/a-/AOh14GiWXNWQGCYoQs2VNdvht0XOjLFJLri6YIxQ6Wu7=s64",
      "userId": "04443070192210893711"
     },
     "user_tz": -330
    },
    "id": "zVLCoQWE-avN",
    "outputId": "1cbaa9f1-4730-4973-db68-e566d1050253"
   },
   "outputs": [
    {
     "name": "stdout",
     "output_type": "stream",
     "text": [
      "Original dataset samples per class Counter({0: 7963, 1: 2037})\n"
     ]
    }
   ],
   "source": [
    "from collections import Counter\n",
    "print(f'Original dataset samples per class {Counter(y)}')"
   ]
  },
  {
   "cell_type": "code",
   "execution_count": 21,
   "metadata": {
    "ExecuteTime": {
     "end_time": "2022-10-18T07:15:20.332490Z",
     "start_time": "2022-10-18T07:15:20.304482Z"
    },
    "colab": {
     "base_uri": "https://localhost:8080/",
     "height": 204
    },
    "executionInfo": {
     "elapsed": 765,
     "status": "ok",
     "timestamp": 1626369094544,
     "user": {
      "displayName": "Vasant Rajadhyax",
      "photoUrl": "https://lh3.googleusercontent.com/a-/AOh14GiWXNWQGCYoQs2VNdvht0XOjLFJLri6YIxQ6Wu7=s64",
      "userId": "04443070192210893711"
     },
     "user_tz": -330
    },
    "id": "MErLmrMwIvWT",
    "outputId": "dad70353-7745-47fb-9558-e31ca72429e1"
   },
   "outputs": [
    {
     "data": {
      "text/html": [
       "<div>\n",
       "<style scoped>\n",
       "    .dataframe tbody tr th:only-of-type {\n",
       "        vertical-align: middle;\n",
       "    }\n",
       "\n",
       "    .dataframe tbody tr th {\n",
       "        vertical-align: top;\n",
       "    }\n",
       "\n",
       "    .dataframe thead th {\n",
       "        text-align: right;\n",
       "    }\n",
       "</style>\n",
       "<table border=\"1\" class=\"dataframe\">\n",
       "  <thead>\n",
       "    <tr style=\"text-align: right;\">\n",
       "      <th></th>\n",
       "      <th>CreditScore</th>\n",
       "      <th>Geography</th>\n",
       "      <th>Gender</th>\n",
       "      <th>Age</th>\n",
       "      <th>Tenure</th>\n",
       "      <th>Balance</th>\n",
       "      <th>NumOfProducts</th>\n",
       "      <th>HasCrCard</th>\n",
       "      <th>IsActiveMember</th>\n",
       "      <th>EstimatedSalary</th>\n",
       "    </tr>\n",
       "  </thead>\n",
       "  <tbody>\n",
       "    <tr>\n",
       "      <th>3353</th>\n",
       "      <td>508</td>\n",
       "      <td>France</td>\n",
       "      <td>Female</td>\n",
       "      <td>31</td>\n",
       "      <td>7</td>\n",
       "      <td>0.00</td>\n",
       "      <td>2</td>\n",
       "      <td>1</td>\n",
       "      <td>1</td>\n",
       "      <td>6123.15</td>\n",
       "    </tr>\n",
       "    <tr>\n",
       "      <th>8776</th>\n",
       "      <td>567</td>\n",
       "      <td>Spain</td>\n",
       "      <td>Male</td>\n",
       "      <td>44</td>\n",
       "      <td>9</td>\n",
       "      <td>0.00</td>\n",
       "      <td>2</td>\n",
       "      <td>1</td>\n",
       "      <td>0</td>\n",
       "      <td>87677.15</td>\n",
       "    </tr>\n",
       "    <tr>\n",
       "      <th>6377</th>\n",
       "      <td>692</td>\n",
       "      <td>France</td>\n",
       "      <td>Male</td>\n",
       "      <td>33</td>\n",
       "      <td>9</td>\n",
       "      <td>0.00</td>\n",
       "      <td>1</td>\n",
       "      <td>1</td>\n",
       "      <td>0</td>\n",
       "      <td>113505.93</td>\n",
       "    </tr>\n",
       "    <tr>\n",
       "      <th>3617</th>\n",
       "      <td>792</td>\n",
       "      <td>Germany</td>\n",
       "      <td>Female</td>\n",
       "      <td>29</td>\n",
       "      <td>4</td>\n",
       "      <td>107601.79</td>\n",
       "      <td>1</td>\n",
       "      <td>1</td>\n",
       "      <td>0</td>\n",
       "      <td>18922.18</td>\n",
       "    </tr>\n",
       "    <tr>\n",
       "      <th>1041</th>\n",
       "      <td>722</td>\n",
       "      <td>France</td>\n",
       "      <td>Male</td>\n",
       "      <td>30</td>\n",
       "      <td>5</td>\n",
       "      <td>0.00</td>\n",
       "      <td>2</td>\n",
       "      <td>1</td>\n",
       "      <td>0</td>\n",
       "      <td>166376.54</td>\n",
       "    </tr>\n",
       "  </tbody>\n",
       "</table>\n",
       "</div>"
      ],
      "text/plain": [
       "      CreditScore Geography  Gender  Age  Tenure    Balance  NumOfProducts  \\\n",
       "3353          508    France  Female   31       7       0.00              2   \n",
       "8776          567     Spain    Male   44       9       0.00              2   \n",
       "6377          692    France    Male   33       9       0.00              1   \n",
       "3617          792   Germany  Female   29       4  107601.79              1   \n",
       "1041          722    France    Male   30       5       0.00              2   \n",
       "\n",
       "      HasCrCard  IsActiveMember  EstimatedSalary  \n",
       "3353          1               1          6123.15  \n",
       "8776          1               0         87677.15  \n",
       "6377          1               0        113505.93  \n",
       "3617          1               0         18922.18  \n",
       "1041          1               0        166376.54  "
      ]
     },
     "execution_count": 21,
     "metadata": {},
     "output_type": "execute_result"
    }
   ],
   "source": [
    "X.sample(5)"
   ]
  },
  {
   "cell_type": "markdown",
   "metadata": {
    "id": "wsp2FzY6Kn4-"
   },
   "source": [
    "## SMOTEC Analysis for up-sampling"
   ]
  },
  {
   "cell_type": "code",
   "execution_count": 22,
   "metadata": {
    "ExecuteTime": {
     "end_time": "2022-10-18T07:15:21.129990Z",
     "start_time": "2022-10-18T07:15:20.336658Z"
    },
    "executionInfo": {
     "elapsed": 13286,
     "status": "ok",
     "timestamp": 1626369120155,
     "user": {
      "displayName": "Vasant Rajadhyax",
      "photoUrl": "https://lh3.googleusercontent.com/a-/AOh14GiWXNWQGCYoQs2VNdvht0XOjLFJLri6YIxQ6Wu7=s64",
      "userId": "04443070192210893711"
     },
     "user_tz": -330
    },
    "id": "42uKyNRxIT4j"
   },
   "outputs": [],
   "source": [
    "sm = SMOTENC(categorical_features=[1,2] , random_state=14)\n",
    "X_samp, y_samp = sm.fit_resample(X,y)"
   ]
  },
  {
   "cell_type": "code",
   "execution_count": 23,
   "metadata": {
    "ExecuteTime": {
     "end_time": "2022-10-18T07:15:21.146020Z",
     "start_time": "2022-10-18T07:15:21.132959Z"
    },
    "executionInfo": {
     "elapsed": 601,
     "status": "ok",
     "timestamp": 1626371450320,
     "user": {
      "displayName": "Vasant Rajadhyax",
      "photoUrl": "https://lh3.googleusercontent.com/a-/AOh14GiWXNWQGCYoQs2VNdvht0XOjLFJLri6YIxQ6Wu7=s64",
      "userId": "04443070192210893711"
     },
     "user_tz": -330
    },
    "id": "1vIa6kaTSDRx"
   },
   "outputs": [],
   "source": [
    "y_samp = pd.Series(y_samp)"
   ]
  },
  {
   "cell_type": "code",
   "execution_count": 24,
   "metadata": {
    "ExecuteTime": {
     "end_time": "2022-10-18T07:15:21.161036Z",
     "start_time": "2022-10-18T07:15:21.149096Z"
    },
    "executionInfo": {
     "elapsed": 499,
     "status": "ok",
     "timestamp": 1626371471321,
     "user": {
      "displayName": "Vasant Rajadhyax",
      "photoUrl": "https://lh3.googleusercontent.com/a-/AOh14GiWXNWQGCYoQs2VNdvht0XOjLFJLri6YIxQ6Wu7=s64",
      "userId": "04443070192210893711"
     },
     "user_tz": -330
    },
    "id": "YCWXs0tTRpYB"
   },
   "outputs": [],
   "source": [
    "X_samp = pd.DataFrame(X_samp, columns=X.columns)"
   ]
  },
  {
   "cell_type": "code",
   "execution_count": 25,
   "metadata": {
    "ExecuteTime": {
     "end_time": "2022-10-18T07:15:21.191314Z",
     "start_time": "2022-10-18T07:15:21.165024Z"
    },
    "colab": {
     "base_uri": "https://localhost:8080/"
    },
    "executionInfo": {
     "elapsed": 649,
     "status": "ok",
     "timestamp": 1626369156932,
     "user": {
      "displayName": "Vasant Rajadhyax",
      "photoUrl": "https://lh3.googleusercontent.com/a-/AOh14GiWXNWQGCYoQs2VNdvht0XOjLFJLri6YIxQ6Wu7=s64",
      "userId": "04443070192210893711"
     },
     "user_tz": -330
    },
    "id": "llmDotaHJ7BA",
    "outputId": "259b0132-3ef5-4cd6-ed9c-c6b04e88dd21"
   },
   "outputs": [
    {
     "name": "stdout",
     "output_type": "stream",
     "text": [
      "Original dataset samples per class Counter({1: 7963, 0: 7963})\n"
     ]
    }
   ],
   "source": [
    "from collections import Counter\n",
    "print(f'Original dataset samples per class {Counter(y_samp)}')"
   ]
  },
  {
   "cell_type": "code",
   "execution_count": 26,
   "metadata": {
    "ExecuteTime": {
     "end_time": "2022-10-18T07:15:21.206459Z",
     "start_time": "2022-10-18T07:15:21.195028Z"
    },
    "colab": {
     "base_uri": "https://localhost:8080/"
    },
    "executionInfo": {
     "elapsed": 636,
     "status": "ok",
     "timestamp": 1626369226369,
     "user": {
      "displayName": "Vasant Rajadhyax",
      "photoUrl": "https://lh3.googleusercontent.com/a-/AOh14GiWXNWQGCYoQs2VNdvht0XOjLFJLri6YIxQ6Wu7=s64",
      "userId": "04443070192210893711"
     },
     "user_tz": -330
    },
    "id": "BFjX342XKEYm",
    "outputId": "7f7cb77c-af28-40b6-efeb-e4a18db51a09"
   },
   "outputs": [
    {
     "name": "stdout",
     "output_type": "stream",
     "text": [
      "(10000, 10)\n",
      "(10000,)\n",
      "(15926, 10)\n",
      "(15926,)\n"
     ]
    }
   ],
   "source": [
    "print(X.shape)\n",
    "print(y.shape)\n",
    "print(X_samp.shape)\n",
    "print(y_samp.shape)"
   ]
  },
  {
   "cell_type": "markdown",
   "metadata": {
    "id": "0jtECG2pK_Ww"
   },
   "source": [
    "## Splitting the data into Train and Test"
   ]
  },
  {
   "cell_type": "code",
   "execution_count": 27,
   "metadata": {
    "ExecuteTime": {
     "end_time": "2022-10-18T07:15:21.236324Z",
     "start_time": "2022-10-18T07:15:21.214461Z"
    },
    "executionInfo": {
     "elapsed": 960,
     "status": "ok",
     "timestamp": 1626369623564,
     "user": {
      "displayName": "Vasant Rajadhyax",
      "photoUrl": "https://lh3.googleusercontent.com/a-/AOh14GiWXNWQGCYoQs2VNdvht0XOjLFJLri6YIxQ6Wu7=s64",
      "userId": "04443070192210893711"
     },
     "user_tz": -330
    },
    "id": "_ulyYQQPIT4k"
   },
   "outputs": [],
   "source": [
    "X_train,X_test,y_train,y_test=train_test_split(X, y, train_size=0.7, random_state= 21)"
   ]
  },
  {
   "cell_type": "code",
   "execution_count": 28,
   "metadata": {
    "ExecuteTime": {
     "end_time": "2022-10-18T07:15:21.282328Z",
     "start_time": "2022-10-18T07:15:21.248338Z"
    },
    "executionInfo": {
     "elapsed": 542,
     "status": "ok",
     "timestamp": 1626371947168,
     "user": {
      "displayName": "Vasant Rajadhyax",
      "photoUrl": "https://lh3.googleusercontent.com/a-/AOh14GiWXNWQGCYoQs2VNdvht0XOjLFJLri6YIxQ6Wu7=s64",
      "userId": "04443070192210893711"
     },
     "user_tz": -330
    },
    "id": "w3-KSX8qLIHC"
   },
   "outputs": [],
   "source": [
    "X_train_sm,X_test_sm,y_train_sm,y_test_sm=train_test_split(X_samp, y_samp, train_size=0.7, random_state= 69)"
   ]
  },
  {
   "cell_type": "markdown",
   "metadata": {
    "id": "OGmghzxbLURT"
   },
   "source": [
    "# Making a pipeline"
   ]
  },
  {
   "cell_type": "code",
   "execution_count": 29,
   "metadata": {
    "ExecuteTime": {
     "end_time": "2022-10-18T07:15:21.298369Z",
     "start_time": "2022-10-18T07:15:21.284295Z"
    },
    "executionInfo": {
     "elapsed": 666,
     "status": "ok",
     "timestamp": 1626369638220,
     "user": {
      "displayName": "Vasant Rajadhyax",
      "photoUrl": "https://lh3.googleusercontent.com/a-/AOh14GiWXNWQGCYoQs2VNdvht0XOjLFJLri6YIxQ6Wu7=s64",
      "userId": "04443070192210893711"
     },
     "user_tz": -330
    },
    "id": "YTQySuUEQrCN"
   },
   "outputs": [],
   "source": [
    "col_trans = make_column_transformer((OneHotEncoder(drop='first'), ['Geography', 'Gender']),(StandardScaler(), ['CreditScore', 'Age', 'Tenure', 'Balance',\n",
    "       'NumOfProducts', 'HasCrCard', 'IsActiveMember', 'EstimatedSalary']))"
   ]
  },
  {
   "cell_type": "markdown",
   "metadata": {
    "id": "IqRQqonn_pD_"
   },
   "source": [
    "# Cross Validation\n"
   ]
  },
  {
   "cell_type": "markdown",
   "metadata": {
    "id": "wS0OQZFEp3pW"
   },
   "source": [
    "## Model 1: Logistics Regression"
   ]
  },
  {
   "cell_type": "code",
   "execution_count": 30,
   "metadata": {
    "ExecuteTime": {
     "end_time": "2022-10-18T07:15:21.843404Z",
     "start_time": "2022-10-18T07:15:21.302369Z"
    },
    "colab": {
     "base_uri": "https://localhost:8080/"
    },
    "executionInfo": {
     "elapsed": 542,
     "status": "ok",
     "timestamp": 1626369957129,
     "user": {
      "displayName": "Vasant Rajadhyax",
      "photoUrl": "https://lh3.googleusercontent.com/a-/AOh14GiWXNWQGCYoQs2VNdvht0XOjLFJLri6YIxQ6Wu7=s64",
      "userId": "04443070192210893711"
     },
     "user_tz": -330
    },
    "id": "hbEkEzAaoojY",
    "outputId": "d96c2faf-7f54-40b9-bd5c-2c2f4d7dd174"
   },
   "outputs": [
    {
     "name": "stdout",
     "output_type": "stream",
     "text": [
      "Accuracy of model using Logistic Regression model is 0.8098000000000001\n"
     ]
    }
   ],
   "source": [
    "model_lr = LogisticRegression()\n",
    "pipe = make_pipeline(col_trans, model_lr)\n",
    "kfold = KFold(n_splits=10)\n",
    "result_lr = cross_val_score(pipe, X, y, cv=kfold, scoring='accuracy')\n",
    "print(\"Accuracy of model using Logistic Regression model is\", result_lr.mean())"
   ]
  },
  {
   "cell_type": "code",
   "execution_count": 31,
   "metadata": {
    "ExecuteTime": {
     "end_time": "2022-10-18T07:15:22.462412Z",
     "start_time": "2022-10-18T07:15:21.845395Z"
    },
    "colab": {
     "base_uri": "https://localhost:8080/"
    },
    "executionInfo": {
     "elapsed": 2311,
     "status": "ok",
     "timestamp": 1626371511093,
     "user": {
      "displayName": "Vasant Rajadhyax",
      "photoUrl": "https://lh3.googleusercontent.com/a-/AOh14GiWXNWQGCYoQs2VNdvht0XOjLFJLri6YIxQ6Wu7=s64",
      "userId": "04443070192210893711"
     },
     "user_tz": -330
    },
    "id": "YyCQ6RyWXmx2",
    "outputId": "9918e49b-6f13-412e-e052-677db28c46cb"
   },
   "outputs": [
    {
     "name": "stdout",
     "output_type": "stream",
     "text": [
      "Accuracy of model using Logistic Regression model with SMOTEE analysis is 0.7458379862274336\n"
     ]
    }
   ],
   "source": [
    "result_lr_sm = cross_val_score(pipe, X_samp, y_samp, cv=kfold, scoring='accuracy')\n",
    "print(\"Accuracy of model using Logistic Regression model with SMOTEE analysis is\", result_lr_sm.mean())"
   ]
  },
  {
   "cell_type": "markdown",
   "metadata": {
    "id": "HttIHFB21MlI"
   },
   "source": [
    "## Model 2: K Nearest Neighbours"
   ]
  },
  {
   "cell_type": "code",
   "execution_count": 32,
   "metadata": {
    "ExecuteTime": {
     "end_time": "2022-10-18T07:15:24.169681Z",
     "start_time": "2022-10-18T07:15:22.464415Z"
    },
    "colab": {
     "base_uri": "https://localhost:8080/"
    },
    "executionInfo": {
     "elapsed": 2302,
     "status": "ok",
     "timestamp": 1626370274013,
     "user": {
      "displayName": "Vasant Rajadhyax",
      "photoUrl": "https://lh3.googleusercontent.com/a-/AOh14GiWXNWQGCYoQs2VNdvht0XOjLFJLri6YIxQ6Wu7=s64",
      "userId": "04443070192210893711"
     },
     "user_tz": -330
    },
    "id": "c1zv1TSymFNV",
    "outputId": "5d022946-9861-446d-d786-6e25ca873719"
   },
   "outputs": [
    {
     "name": "stdout",
     "output_type": "stream",
     "text": [
      "Accuracy of model using K Nearest Neighbours model is 0.8398\n"
     ]
    }
   ],
   "source": [
    "model_knn = KNeighborsClassifier()\n",
    "pipe = make_pipeline(col_trans, model_knn)\n",
    "kfold = KFold(n_splits=10)\n",
    "result_knn = cross_val_score(pipe, X, y, cv=kfold, scoring='accuracy')\n",
    "print(\"Accuracy of model using K Nearest Neighbours model is\", result_knn.mean())"
   ]
  },
  {
   "cell_type": "code",
   "execution_count": 33,
   "metadata": {
    "ExecuteTime": {
     "end_time": "2022-10-18T07:15:26.746321Z",
     "start_time": "2022-10-18T07:15:24.171438Z"
    },
    "colab": {
     "base_uri": "https://localhost:8080/"
    },
    "executionInfo": {
     "elapsed": 2480,
     "status": "ok",
     "timestamp": 1626371553921,
     "user": {
      "displayName": "Vasant Rajadhyax",
      "photoUrl": "https://lh3.googleusercontent.com/a-/AOh14GiWXNWQGCYoQs2VNdvht0XOjLFJLri6YIxQ6Wu7=s64",
      "userId": "04443070192210893711"
     },
     "user_tz": -330
    },
    "id": "9bjLhbSXX1sJ",
    "outputId": "0188cd3e-8a48-4ecb-ec72-70d05a750e89"
   },
   "outputs": [
    {
     "name": "stdout",
     "output_type": "stream",
     "text": [
      "Accuracy of model using K Nearest Neighbours model with SMOTEE analysis is 0.8086897923389703\n"
     ]
    }
   ],
   "source": [
    "result_knn_sm = cross_val_score(pipe, X_samp, y_samp, cv=kfold, scoring='accuracy')\n",
    "print(\"Accuracy of model using K Nearest Neighbours model with SMOTEE analysis is\", result_knn_sm.mean())"
   ]
  },
  {
   "cell_type": "markdown",
   "metadata": {
    "id": "ABi0L3qn1dZF"
   },
   "source": [
    "## Model 3: Naive Bayes"
   ]
  },
  {
   "cell_type": "code",
   "execution_count": 34,
   "metadata": {
    "ExecuteTime": {
     "end_time": "2022-10-18T07:15:26.997592Z",
     "start_time": "2022-10-18T07:15:26.748279Z"
    },
    "colab": {
     "base_uri": "https://localhost:8080/"
    },
    "executionInfo": {
     "elapsed": 654,
     "status": "ok",
     "timestamp": 1626371605686,
     "user": {
      "displayName": "Vasant Rajadhyax",
      "photoUrl": "https://lh3.googleusercontent.com/a-/AOh14GiWXNWQGCYoQs2VNdvht0XOjLFJLri6YIxQ6Wu7=s64",
      "userId": "04443070192210893711"
     },
     "user_tz": -330
    },
    "id": "BYakSpMymFPo",
    "outputId": "5d33b0d2-4333-4b50-fd2e-d2f5988724d7"
   },
   "outputs": [
    {
     "name": "stdout",
     "output_type": "stream",
     "text": [
      "Accuracy of model using Naive Bayes model is 0.8242\n"
     ]
    }
   ],
   "source": [
    "model_nb=GaussianNB()\n",
    "pipe = make_pipeline(col_trans, model_nb)\n",
    "kfold = KFold(n_splits=10)\n",
    "result_nb = cross_val_score(pipe, X, y, cv=kfold, scoring='accuracy')\n",
    "print(\"Accuracy of model using Naive Bayes model is\", result_nb.mean())"
   ]
  },
  {
   "cell_type": "code",
   "execution_count": 35,
   "metadata": {
    "ExecuteTime": {
     "end_time": "2022-10-18T07:15:27.609495Z",
     "start_time": "2022-10-18T07:15:27.001122Z"
    },
    "colab": {
     "base_uri": "https://localhost:8080/"
    },
    "executionInfo": {
     "elapsed": 1458,
     "status": "ok",
     "timestamp": 1626371622313,
     "user": {
      "displayName": "Vasant Rajadhyax",
      "photoUrl": "https://lh3.googleusercontent.com/a-/AOh14GiWXNWQGCYoQs2VNdvht0XOjLFJLri6YIxQ6Wu7=s64",
      "userId": "04443070192210893711"
     },
     "user_tz": -330
    },
    "id": "PweWLp6_X8oM",
    "outputId": "29db6f70-40ce-4e72-c6a1-27aee30ac89c"
   },
   "outputs": [
    {
     "name": "stdout",
     "output_type": "stream",
     "text": [
      "Accuracy of model using Naive Bayes model with SMOTEE analysis is 0.7537469992776185\n"
     ]
    }
   ],
   "source": [
    "result_nb_sm = cross_val_score(pipe, X_samp, y_samp, cv=kfold, scoring='accuracy')\n",
    "print(\"Accuracy of model using Naive Bayes model with SMOTEE analysis is\", result_nb_sm.mean())"
   ]
  },
  {
   "cell_type": "markdown",
   "metadata": {
    "id": "2Lwz7wf21lpv"
   },
   "source": [
    "## Model 3: Random Forest Classifier"
   ]
  },
  {
   "cell_type": "code",
   "execution_count": 36,
   "metadata": {
    "ExecuteTime": {
     "end_time": "2022-10-18T07:15:39.053845Z",
     "start_time": "2022-10-18T07:15:27.611257Z"
    },
    "colab": {
     "base_uri": "https://localhost:8080/"
    },
    "executionInfo": {
     "elapsed": 14710,
     "status": "ok",
     "timestamp": 1626371740869,
     "user": {
      "displayName": "Vasant Rajadhyax",
      "photoUrl": "https://lh3.googleusercontent.com/a-/AOh14GiWXNWQGCYoQs2VNdvht0XOjLFJLri6YIxQ6Wu7=s64",
      "userId": "04443070192210893711"
     },
     "user_tz": -330
    },
    "id": "bxXov-vr8nO9",
    "outputId": "f35868fe-b9dd-408f-9ce5-125acc679239"
   },
   "outputs": [
    {
     "name": "stdout",
     "output_type": "stream",
     "text": [
      "Accuracy of model using Random Forest Classifier model is 0.8615999999999999\n"
     ]
    }
   ],
   "source": [
    "model_rf = RandomForestClassifier()\n",
    "pipe = make_pipeline(col_trans, model_rf)\n",
    "kfold = KFold(n_splits=10)\n",
    "result_rf = cross_val_score(pipe, X, y, cv=kfold, scoring='accuracy')\n",
    "print(\"Accuracy of model using Random Forest Classifier model is\", result_rf.mean())"
   ]
  },
  {
   "cell_type": "code",
   "execution_count": 37,
   "metadata": {
    "ExecuteTime": {
     "end_time": "2022-10-18T07:15:58.066347Z",
     "start_time": "2022-10-18T07:15:39.055847Z"
    },
    "colab": {
     "base_uri": "https://localhost:8080/"
    },
    "executionInfo": {
     "elapsed": 18335,
     "status": "ok",
     "timestamp": 1626371767524,
     "user": {
      "displayName": "Vasant Rajadhyax",
      "photoUrl": "https://lh3.googleusercontent.com/a-/AOh14GiWXNWQGCYoQs2VNdvht0XOjLFJLri6YIxQ6Wu7=s64",
      "userId": "04443070192210893711"
     },
     "user_tz": -330
    },
    "id": "vqz6-UrXYDVO",
    "outputId": "56f9c029-3008-4336-c4b5-9bc64f1daa91"
   },
   "outputs": [
    {
     "name": "stdout",
     "output_type": "stream",
     "text": [
      "Accuracy of model using Random Forest Classifier model with SMOTEE analysis is 0.8451058651701697\n"
     ]
    }
   ],
   "source": [
    "result_rf_sm = cross_val_score(pipe, X_samp, y_samp, cv=kfold, scoring='accuracy')\n",
    "print(\"Accuracy of model using Random Forest Classifier model with SMOTEE analysis is\", result_rf_sm.mean())"
   ]
  },
  {
   "cell_type": "markdown",
   "metadata": {
    "id": "NS8SBvv15xp6"
   },
   "source": [
    "SMOTEE analysis provided an additional insight that with imbalance data, **\"Random Forest Classifier\"** and **\"K Nearest Neighbour\"** models perform better than two other models.\n",
    "Hence, we need to check recall, precision & f1 score for the minority class, and it's quite evident that the precision, recall & f1 score is too low for Class 1, i.e. churned customers. For more understanding, we will check on classification report."
   ]
  },
  {
   "cell_type": "markdown",
   "metadata": {
    "id": "pPdY5DTg5oeZ"
   },
   "source": [
    "# Classification Report"
   ]
  },
  {
   "cell_type": "markdown",
   "metadata": {
    "id": "ktiSfYKk6ugr"
   },
   "source": [
    "## Model 1: K Nearest Neighbours"
   ]
  },
  {
   "cell_type": "code",
   "execution_count": 38,
   "metadata": {
    "ExecuteTime": {
     "end_time": "2022-10-18T07:15:58.716452Z",
     "start_time": "2022-10-18T07:15:58.068333Z"
    },
    "executionInfo": {
     "elapsed": 1700,
     "status": "ok",
     "timestamp": 1626371959203,
     "user": {
      "displayName": "Vasant Rajadhyax",
      "photoUrl": "https://lh3.googleusercontent.com/a-/AOh14GiWXNWQGCYoQs2VNdvht0XOjLFJLri6YIxQ6Wu7=s64",
      "userId": "04443070192210893711"
     },
     "user_tz": -330
    },
    "id": "xZy0mw9_IT44"
   },
   "outputs": [],
   "source": [
    "model_knn = KNeighborsClassifier()\n",
    "pipe = make_pipeline(col_trans, model_knn)\n",
    "pipe.fit(X_train_sm, y_train_sm)\n",
    "y_pred_sm= pipe.predict(X_test_sm)"
   ]
  },
  {
   "cell_type": "code",
   "execution_count": 39,
   "metadata": {
    "ExecuteTime": {
     "end_time": "2022-10-18T07:15:58.746613Z",
     "start_time": "2022-10-18T07:15:58.718325Z"
    },
    "colab": {
     "base_uri": "https://localhost:8080/"
    },
    "executionInfo": {
     "elapsed": 613,
     "status": "ok",
     "timestamp": 1626371975732,
     "user": {
      "displayName": "Vasant Rajadhyax",
      "photoUrl": "https://lh3.googleusercontent.com/a-/AOh14GiWXNWQGCYoQs2VNdvht0XOjLFJLri6YIxQ6Wu7=s64",
      "userId": "04443070192210893711"
     },
     "user_tz": -330
    },
    "id": "gT7AUtp1IT46",
    "outputId": "4c8e420a-f101-4e5f-84a9-c607cd3f64f8"
   },
   "outputs": [
    {
     "name": "stdout",
     "output_type": "stream",
     "text": [
      "              precision    recall  f1-score   support\n",
      "\n",
      "          No       0.84      0.79      0.82      2426\n",
      "         Yes       0.80      0.85      0.82      2352\n",
      "\n",
      "    accuracy                           0.82      4778\n",
      "   macro avg       0.82      0.82      0.82      4778\n",
      "weighted avg       0.82      0.82      0.82      4778\n",
      "\n"
     ]
    }
   ],
   "source": [
    "target_names = ['No', 'Yes']\n",
    "print(classification_report(y_test_sm, y_pred_sm, target_names=target_names))"
   ]
  },
  {
   "cell_type": "code",
   "execution_count": 40,
   "metadata": {
    "ExecuteTime": {
     "end_time": "2022-10-18T07:15:58.762381Z",
     "start_time": "2022-10-18T07:15:58.749485Z"
    },
    "executionInfo": {
     "elapsed": 512,
     "status": "ok",
     "timestamp": 1626371985979,
     "user": {
      "displayName": "Vasant Rajadhyax",
      "photoUrl": "https://lh3.googleusercontent.com/a-/AOh14GiWXNWQGCYoQs2VNdvht0XOjLFJLri6YIxQ6Wu7=s64",
      "userId": "04443070192210893711"
     },
     "user_tz": -330
    },
    "id": "8_Keace-IT47"
   },
   "outputs": [],
   "source": [
    "CM_knn_sm = confusion_matrix(y_test_sm, y_pred_sm)"
   ]
  },
  {
   "cell_type": "markdown",
   "metadata": {
    "id": "2jWwkCw57N_J"
   },
   "source": [
    "## Model 4: Random Forest Classifier"
   ]
  },
  {
   "cell_type": "code",
   "execution_count": 41,
   "metadata": {
    "ExecuteTime": {
     "end_time": "2022-10-18T07:16:00.451662Z",
     "start_time": "2022-10-18T07:15:58.765347Z"
    },
    "executionInfo": {
     "elapsed": 4020,
     "status": "ok",
     "timestamp": 1626372084997,
     "user": {
      "displayName": "Vasant Rajadhyax",
      "photoUrl": "https://lh3.googleusercontent.com/a-/AOh14GiWXNWQGCYoQs2VNdvht0XOjLFJLri6YIxQ6Wu7=s64",
      "userId": "04443070192210893711"
     },
     "user_tz": -330
    },
    "id": "lQq64JQWIT5B"
   },
   "outputs": [],
   "source": [
    "model_rf = RandomForestClassifier()\n",
    "pipe = make_pipeline(col_trans, model_rf)\n",
    "pipe.fit(X_train_sm, y_train_sm)\n",
    "y_pred_sm= pipe.predict(X_test_sm)"
   ]
  },
  {
   "cell_type": "code",
   "execution_count": 42,
   "metadata": {
    "ExecuteTime": {
     "end_time": "2022-10-18T07:16:00.482688Z",
     "start_time": "2022-10-18T07:16:00.453427Z"
    },
    "colab": {
     "base_uri": "https://localhost:8080/"
    },
    "executionInfo": {
     "elapsed": 528,
     "status": "ok",
     "timestamp": 1626372090049,
     "user": {
      "displayName": "Vasant Rajadhyax",
      "photoUrl": "https://lh3.googleusercontent.com/a-/AOh14GiWXNWQGCYoQs2VNdvht0XOjLFJLri6YIxQ6Wu7=s64",
      "userId": "04443070192210893711"
     },
     "user_tz": -330
    },
    "id": "Bbym2Yt_IT5C",
    "outputId": "49e108e6-949b-4d5b-b3d7-948293591249"
   },
   "outputs": [
    {
     "name": "stdout",
     "output_type": "stream",
     "text": [
      "              precision    recall  f1-score   support\n",
      "\n",
      "          No       0.86      0.85      0.85      2426\n",
      "         Yes       0.85      0.86      0.85      2352\n",
      "\n",
      "    accuracy                           0.85      4778\n",
      "   macro avg       0.85      0.85      0.85      4778\n",
      "weighted avg       0.85      0.85      0.85      4778\n",
      "\n"
     ]
    }
   ],
   "source": [
    "target_names = ['No', 'Yes']\n",
    "print(classification_report(y_test_sm, y_pred_sm, target_names=target_names))"
   ]
  },
  {
   "cell_type": "code",
   "execution_count": 43,
   "metadata": {
    "ExecuteTime": {
     "end_time": "2022-10-18T07:16:00.498564Z",
     "start_time": "2022-10-18T07:16:00.486436Z"
    },
    "executionInfo": {
     "elapsed": 527,
     "status": "ok",
     "timestamp": 1626372098386,
     "user": {
      "displayName": "Vasant Rajadhyax",
      "photoUrl": "https://lh3.googleusercontent.com/a-/AOh14GiWXNWQGCYoQs2VNdvht0XOjLFJLri6YIxQ6Wu7=s64",
      "userId": "04443070192210893711"
     },
     "user_tz": -330
    },
    "id": "PFAFdEK1IT5E"
   },
   "outputs": [],
   "source": [
    "CM_rf_sm = confusion_matrix(y_test_sm, y_pred_sm)"
   ]
  },
  {
   "cell_type": "markdown",
   "metadata": {
    "id": "ZSPYhHFz9JIy"
   },
   "source": [
    "### Let's check with confusion matrix which will give the idea about the best fit model for this dataset."
   ]
  },
  {
   "cell_type": "code",
   "execution_count": 44,
   "metadata": {
    "ExecuteTime": {
     "end_time": "2022-10-18T07:16:00.513512Z",
     "start_time": "2022-10-18T07:16:00.502607Z"
    },
    "colab": {
     "base_uri": "https://localhost:8080/"
    },
    "executionInfo": {
     "elapsed": 539,
     "status": "ok",
     "timestamp": 1626372107809,
     "user": {
      "displayName": "Vasant Rajadhyax",
      "photoUrl": "https://lh3.googleusercontent.com/a-/AOh14GiWXNWQGCYoQs2VNdvht0XOjLFJLri6YIxQ6Wu7=s64",
      "userId": "04443070192210893711"
     },
     "user_tz": -330
    },
    "id": "e1cwpRuOIT5O",
    "outputId": "69c420cb-2b46-4a70-eb34-f0269d96a7ef"
   },
   "outputs": [
    {
     "data": {
      "text/plain": [
       "array([[1922,  504],\n",
       "       [ 357, 1995]], dtype=int64)"
      ]
     },
     "execution_count": 44,
     "metadata": {},
     "output_type": "execute_result"
    }
   ],
   "source": [
    "CM_knn_sm"
   ]
  },
  {
   "cell_type": "code",
   "execution_count": 45,
   "metadata": {
    "ExecuteTime": {
     "end_time": "2022-10-18T07:16:00.529509Z",
     "start_time": "2022-10-18T07:16:00.519509Z"
    },
    "colab": {
     "base_uri": "https://localhost:8080/"
    },
    "executionInfo": {
     "elapsed": 591,
     "status": "ok",
     "timestamp": 1626372112052,
     "user": {
      "displayName": "Vasant Rajadhyax",
      "photoUrl": "https://lh3.googleusercontent.com/a-/AOh14GiWXNWQGCYoQs2VNdvht0XOjLFJLri6YIxQ6Wu7=s64",
      "userId": "04443070192210893711"
     },
     "user_tz": -330
    },
    "id": "a9zy6GkNIT5S",
    "outputId": "9d746167-65e4-4f66-d8f6-9c4a846fcba5"
   },
   "outputs": [
    {
     "data": {
      "text/plain": [
       "array([[2060,  366],\n",
       "       [ 341, 2011]], dtype=int64)"
      ]
     },
     "execution_count": 45,
     "metadata": {},
     "output_type": "execute_result"
    }
   ],
   "source": [
    "CM_rf_sm"
   ]
  },
  {
   "cell_type": "markdown",
   "metadata": {
    "id": "b5ONDAYd9bMK"
   },
   "source": [
    "# Conclusion"
   ]
  },
  {
   "cell_type": "markdown",
   "metadata": {
    "id": "b60cvK6u9d9C"
   },
   "source": [
    "The criteria of the loan offer must be done on the basis of minimum amount of false prediction. So that we will create some set of parameters which can help us to select bet fit model. We will go sequencially through the parameters given below:\n",
    "1. Model must predict maximum **True Positive** and **True Negative** values.\n",
    "   -*To find best fit model*\n",
    "   \n",
    "2. Model must contain less number of **False Negative**.\n",
    "   -*To minimize the quantity of defaulters*\n",
    "   \n",
    "3. Model must contain less number of **False Positive**.\n",
    "   -*To maximize the bussiness*"
   ]
  },
  {
   "cell_type": "markdown",
   "metadata": {
    "id": "o5oFH80d9kZM"
   },
   "source": [
    "The maximum numbers of True positive and True Negative are almost same. But the logistics contains least numbers of False Negative compared to other models. Also highest number of correct prediction among all the models."
   ]
  },
  {
   "cell_type": "markdown",
   "metadata": {
    "id": "CxE7KWZI9sV9"
   },
   "source": [
    "### **So we have came to conclusion that \"Random Forest Classifier\" is the best fit model for given dataset.**"
   ]
  },
  {
   "cell_type": "markdown",
   "metadata": {
    "id": "NqxAmMCCB0RU"
   },
   "source": [
    "# Saving the best fit model for deployment"
   ]
  },
  {
   "cell_type": "code",
   "execution_count": null,
   "metadata": {
    "colab": {
     "base_uri": "https://localhost:8080/"
    },
    "executionInfo": {
     "elapsed": 45032,
     "status": "ok",
     "timestamp": 1626372254498,
     "user": {
      "displayName": "Vasant Rajadhyax",
      "photoUrl": "https://lh3.googleusercontent.com/a-/AOh14GiWXNWQGCYoQs2VNdvht0XOjLFJLri6YIxQ6Wu7=s64",
      "userId": "04443070192210893711"
     },
     "user_tz": -330
    },
    "id": "gEB0r_tYWS9u",
    "outputId": "617dbf9f-9552-45ee-ef19-c2c45bea99e9"
   },
   "outputs": [],
   "source": [
    "from google.colab import drive\n",
    "drive.mount('/content/drive')"
   ]
  },
  {
   "cell_type": "code",
   "execution_count": null,
   "metadata": {
    "executionInfo": {
     "elapsed": 532,
     "status": "ok",
     "timestamp": 1626372322958,
     "user": {
      "displayName": "Vasant Rajadhyax",
      "photoUrl": "https://lh3.googleusercontent.com/a-/AOh14GiWXNWQGCYoQs2VNdvht0XOjLFJLri6YIxQ6Wu7=s64",
      "userId": "04443070192210893711"
     },
     "user_tz": -330
    },
    "id": "tpvIOJusB9_U"
   },
   "outputs": [],
   "source": [
    "import os\n",
    "os.chdir('/content/drive/MyDrive/Colab Notebooks/')\n",
    "import pickle\n",
    "filename = 'Bank_Loan_model.pkl'\n",
    "pickle.dump(pipe, open(filename, 'wb'))"
   ]
  }
 ],
 "metadata": {
  "accelerator": "GPU",
  "colab": {
   "collapsed_sections": [],
   "name": "Bank_Customer_Churn_Prediction_Vasant.ipynb",
   "provenance": []
  },
  "kernelspec": {
   "display_name": "Python 3 (ipykernel)",
   "language": "python",
   "name": "python3"
  },
  "language_info": {
   "codemirror_mode": {
    "name": "ipython",
    "version": 3
   },
   "file_extension": ".py",
   "mimetype": "text/x-python",
   "name": "python",
   "nbconvert_exporter": "python",
   "pygments_lexer": "ipython3",
   "version": "3.11.4"
  },
  "toc": {
   "base_numbering": 1,
   "nav_menu": {},
   "number_sections": true,
   "sideBar": true,
   "skip_h1_title": false,
   "title_cell": "Table of Contents",
   "title_sidebar": "Contents",
   "toc_cell": false,
   "toc_position": {},
   "toc_section_display": true,
   "toc_window_display": false
  },
  "varInspector": {
   "cols": {
    "lenName": 16,
    "lenType": 16,
    "lenVar": 40
   },
   "kernels_config": {
    "python": {
     "delete_cmd_postfix": "",
     "delete_cmd_prefix": "del ",
     "library": "var_list.py",
     "varRefreshCmd": "print(var_dic_list())"
    },
    "r": {
     "delete_cmd_postfix": ") ",
     "delete_cmd_prefix": "rm(",
     "library": "var_list.r",
     "varRefreshCmd": "cat(var_dic_list()) "
    }
   },
   "types_to_exclude": [
    "module",
    "function",
    "builtin_function_or_method",
    "instance",
    "_Feature"
   ],
   "window_display": false
  }
 },
 "nbformat": 4,
 "nbformat_minor": 1
}
